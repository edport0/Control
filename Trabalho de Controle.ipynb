{
 "cells": [
  {
   "cell_type": "code",
   "execution_count": 37,
   "id": "00863eeb-b770-46b8-9a3a-259988b85645",
   "metadata": {
    "tags": []
   },
   "outputs": [],
   "source": [
    "#!pip install sympy\n",
    "#!pip install control\n",
    "#!pip install tbcontrol\n",
    "#!pip install ipywidgets"
   ]
  },
  {
   "cell_type": "code",
   "execution_count": 38,
   "id": "09dc4d48-486a-42bc-aeb0-250d47a54cfb",
   "metadata": {
    "tags": []
   },
   "outputs": [],
   "source": [
    "import numpy as np\n",
    "import scipy.linalg as la\n",
    "import matplotlib.pyplot as plt\n",
    "import control as ct\n",
    "import sympy as sp\n",
    "\n",
    "import ipywidgets as widgets\n",
    "from ipywidgets import interactive"
   ]
  },
  {
   "cell_type": "code",
   "execution_count": 39,
   "id": "a35956ff-c81e-470d-ba73-28b1dd7f0f6a",
   "metadata": {
    "tags": []
   },
   "outputs": [],
   "source": [
    "# Paleta de cores do prof. Renato:\n",
    "cp = {\n",
    "    'red': (1.0, 0.349, 0.369, 1.0),\n",
    "    'green': (0.541, 0.788, 0.149, 1.0),\n",
    "    'blue': (0.098, 0.510, 0.769, 1.0),\n",
    "    'lred': (1.0, 0.588, 0.6, 1.0),\n",
    "    'lgreen': (0.722, 0.894, 0.443, 1.0),\n",
    "    'lblue': (0.369, 0.706, 0.918, 1.0),\n",
    "    'dred': (0.839,0.0,0.027),\n",
    "    'dgreen': (0.341,0.494,0.094),\n",
    "    'dblue': (0.063,0.318,0.475),\n",
    "    'orange': (1.0, 0.506, 0.227, 1.0),\n",
    "    'yellow': (1.0, 0.792, 0.227, 1.0),\n",
    "    'pink': (1.0, 0.349, 0.611, 1.0),\n",
    "    'purple': (0.416, 0.298, 0.576, 1.0),\n",
    "    'turquoise': (0.098, 0.761, 0.769, 1.0),\n",
    "    'brown': (0.576, 0.380, 0.298, 1.0)\n",
    "}"
   ]
  },
  {
   "cell_type": "code",
   "execution_count": 40,
   "id": "de681c2c-6ac3-42b5-8ea7-6d8836a0ab47",
   "metadata": {},
   "outputs": [],
   "source": [
    "#Dimensões do modelo:\n",
    "n = 4 #Variáveis de estado\n",
    "r = 1 #Entradas de controle\n",
    "l = 1 #Entradas de distúrbio\n",
    "m = 3 #Saídas"
   ]
  },
  {
   "cell_type": "code",
   "execution_count": 41,
   "id": "893c8814-95d7-4c0d-a822-de4646a9a84a",
   "metadata": {
    "tags": []
   },
   "outputs": [],
   "source": [
    "#Parâmetros:\n",
    "Bb = 2.5 #Boca [m]\n",
    "Db = 0.4 #Calado [m]\n",
    "LOA = 8.4 #Comprimento fora-a-fora do barco [m]\n",
    "Hb = 1.7 #Altura do barco [m]\n",
    "Me = 10.0 #Massa do eixo do giroscópio [kg]\n",
    "Md = 160.0 #Massa do disco do giroscópio [kg]\n",
    "le = 0.5 #Comprimento do eixo do giroscópio [m]\n",
    "re = 0.09 #Raio do eixo do giroscópio [m]\n",
    "rd = 0.230 #Raio do disco do giroscópio [m]\n",
    "ed = 0.150 #Espessura do disco do giroscópio [m]\n",
    "g = 9.81 #Aceleração da gravidade [m/s²]\n",
    "rho_w = 997.0 #Massa específica da água a 25°C [kg/m³]\n",
    "wf = 1.40071 #freq. de exitação das ondas [rad/s]\n",
    "A0 = 2.0 #Altura das ondas [m]\n",
    "Cg = 500.0 #Momento de restituição do giroscópio [N.m]\n",
    "Bg = 2500.0 #Coef. de dissipação por atrito do giroscópio [N.m.s]\n",
    "\n",
    "c2 = 0.006 #Coef. adim. da dissipação por irradiação de ondas\n",
    "c3 = 0.149 #Coef. adim. de massa adicional da embarcação"
   ]
  },
  {
   "cell_type": "markdown",
   "id": "180cf3d1-94da-4fa8-a614-09a7a0741e86",
   "metadata": {},
   "source": [
    "Representação em Espaço de Estados do Modelo Linearizado:"
   ]
  },
  {
   "cell_type": "code",
   "execution_count": 42,
   "id": "0e25119d-65c7-45db-af5e-62181403c109",
   "metadata": {
    "tags": []
   },
   "outputs": [],
   "source": [
    "Omega = sp.symbols('Ω')\n",
    "\n",
    "#Componentes da matriz A:\n",
    "a_31 = - g*LOA*(Bb**2 - 6*Db**2)/(Db*((Bb**2)*(LOA+12*c3) + LOA*Hb**2))\n",
    "a_33 = - 12*np.sqrt(2)*(g**2)*((Bb/g)**(3/2))*c2/((Bb**2)*(LOA+12*c3)+LOA*Hb**2)\n",
    "a_34 = - 6*Omega*Md*(rd**2)/(Bb*Db*((Bb**2)*(LOA+12*c3)+LOA*Hb**2)*rho_w)\n",
    "a_42 = -12*Cg/((ed**2)*(Md-Me)+3*Md*(rd**2)+Me*((le**2)+3*(re**2)))\n",
    "a_43 = Omega*(-1 + (12*Md*rd**2)/((ed**2)*(Md-Me)+3*Md*rd**2 + Me*(le**2 + 3*re**2)))\n",
    "a_44 = -12*Bg/((ed**2)*(Md-Me)+3*Md*rd**2 + Me*(le**2 + 3*re**2))\n",
    "\n",
    "#Matriz A:\n",
    "A = sp.Matrix([[0,0,1,0],[0,0,0,1],[a_31,0,a_33,a_34],[0,a_42,a_43,a_44]])\n",
    "\n",
    "#Componentes da matriz B:\n",
    "I_Gy = (1/12)*Me*(3*re**2 + le**2 - ed**2) + (1/12)*Md*(3*rd**2 + ed**2) #Momento de Inércia do Giroscópio em relação ao eixo y móvel\n",
    "\n",
    "#Matriz B:\n",
    "B = sp.Matrix([[0],[0],[0],[(1/I_Gy)]])\n",
    "\n",
    "#Componentes da matriz E:\n",
    "e_3 = g*LOA*(Bb**2 - 6*Db**2)/(Db*((Bb**2)*(LOA+12*c3)+LOA*Hb**2))\n",
    "\n",
    "#Matriz E:\n",
    "E = sp.Matrix([[0],[0],[e_3],[0]])\n",
    "\n",
    "#Matriz C:\n",
    "C = sp.Matrix([[1,0,0,0],[0,1,0,0],[0,0,0,1]])\n",
    "\n",
    "#Matriz D:\n",
    "D = sp.Matrix([[0],[0],[0]])\n"
   ]
  },
  {
   "cell_type": "code",
   "execution_count": 43,
   "id": "f03f7278-9207-4351-84bd-693047ce9234",
   "metadata": {},
   "outputs": [],
   "source": [
    "An = sp.lambdify((Omega), A)\n",
    "Bn = sp.lambdify((),B)"
   ]
  },
  {
   "cell_type": "code",
   "execution_count": 44,
   "id": "d414120a-909a-458b-9031-65109f219eec",
   "metadata": {},
   "outputs": [
    {
     "data": {
      "text/latex": [
       "$\\displaystyle \\left[\\begin{matrix}0\\\\0\\\\12.3909097110891\\\\0\\end{matrix}\\right]$"
      ],
      "text/plain": [
       "Matrix([\n",
       "[               0],\n",
       "[               0],\n",
       "[12.3909097110891],\n",
       "[               0]])"
      ]
     },
     "execution_count": 44,
     "metadata": {},
     "output_type": "execute_result"
    }
   ],
   "source": [
    "E"
   ]
  },
  {
   "cell_type": "code",
   "execution_count": 73,
   "id": "6392c4de-b0c7-4217-808b-ead5d7f2d20d",
   "metadata": {
    "tags": []
   },
   "outputs": [
    {
     "data": {
      "text/latex": [
       "$$\n",
       "\\left(\\begin{array}{rllrllrllrll|rll}\n",
       "0\\phantom{.}&\\hspace{-1em}&\\hspace{-1em}\\phantom{\\cdot}&0\\phantom{.}&\\hspace{-1em}&\\hspace{-1em}\\phantom{\\cdot}&1\\phantom{.}&\\hspace{-1em}&\\hspace{-1em}\\phantom{\\cdot}&0\\phantom{.}&\\hspace{-1em}&\\hspace{-1em}\\phantom{\\cdot}&0\\phantom{.}&\\hspace{-1em}&\\hspace{-1em}\\phantom{\\cdot}\\\\\n",
       "0\\phantom{.}&\\hspace{-1em}&\\hspace{-1em}\\phantom{\\cdot}&0\\phantom{.}&\\hspace{-1em}&\\hspace{-1em}\\phantom{\\cdot}&0\\phantom{.}&\\hspace{-1em}&\\hspace{-1em}\\phantom{\\cdot}&1\\phantom{.}&\\hspace{-1em}&\\hspace{-1em}\\phantom{\\cdot}&0\\phantom{.}&\\hspace{-1em}&\\hspace{-1em}\\phantom{\\cdot}\\\\\n",
       "-12.&\\hspace{-1em}4&\\hspace{-1em}\\phantom{\\cdot}&0\\phantom{.}&\\hspace{-1em}&\\hspace{-1em}\\phantom{\\cdot}&-0.&\\hspace{-1em}0143&\\hspace{-1em}\\phantom{\\cdot}&-0.&\\hspace{-1em}485&\\hspace{-1em}\\phantom{\\cdot}&0\\phantom{.}&\\hspace{-1em}&\\hspace{-1em}\\phantom{\\cdot}\\\\\n",
       "0\\phantom{.}&\\hspace{-1em}&\\hspace{-1em}\\phantom{\\cdot}&-190\\phantom{.}&\\hspace{-1em}&\\hspace{-1em}\\phantom{\\cdot}&1.&\\hspace{-1em}86&\\hspace{-1em}\\cdot10^{3}&-952\\phantom{.}&\\hspace{-1em}&\\hspace{-1em}\\phantom{\\cdot}&0.&\\hspace{-1em}381&\\hspace{-1em}\\phantom{\\cdot}\\\\\n",
       "\\hline\n",
       "1\\phantom{.}&\\hspace{-1em}&\\hspace{-1em}\\phantom{\\cdot}&0\\phantom{.}&\\hspace{-1em}&\\hspace{-1em}\\phantom{\\cdot}&0\\phantom{.}&\\hspace{-1em}&\\hspace{-1em}\\phantom{\\cdot}&0\\phantom{.}&\\hspace{-1em}&\\hspace{-1em}\\phantom{\\cdot}&0\\phantom{.}&\\hspace{-1em}&\\hspace{-1em}\\phantom{\\cdot}\\\\\n",
       "0\\phantom{.}&\\hspace{-1em}&\\hspace{-1em}\\phantom{\\cdot}&1\\phantom{.}&\\hspace{-1em}&\\hspace{-1em}\\phantom{\\cdot}&0\\phantom{.}&\\hspace{-1em}&\\hspace{-1em}\\phantom{\\cdot}&0\\phantom{.}&\\hspace{-1em}&\\hspace{-1em}\\phantom{\\cdot}&0\\phantom{.}&\\hspace{-1em}&\\hspace{-1em}\\phantom{\\cdot}\\\\\n",
       "0\\phantom{.}&\\hspace{-1em}&\\hspace{-1em}\\phantom{\\cdot}&0\\phantom{.}&\\hspace{-1em}&\\hspace{-1em}\\phantom{\\cdot}&0\\phantom{.}&\\hspace{-1em}&\\hspace{-1em}\\phantom{\\cdot}&1\\phantom{.}&\\hspace{-1em}&\\hspace{-1em}\\phantom{\\cdot}&0\\phantom{.}&\\hspace{-1em}&\\hspace{-1em}\\phantom{\\cdot}\\\\\n",
       "\\end{array}\\right)\n",
       "$$"
      ],
      "text/plain": [
       "StateSpace(array([[ 0.00000000e+00,  0.00000000e+00,  1.00000000e+00,\n",
       "         0.00000000e+00],\n",
       "       [ 0.00000000e+00,  0.00000000e+00,  0.00000000e+00,\n",
       "         1.00000000e+00],\n",
       "       [-1.23909097e+01,  0.00000000e+00, -1.43334663e-02,\n",
       "        -4.85187463e-01],\n",
       "       [ 0.00000000e+00, -1.90415741e+02,  1.86263576e+03,\n",
       "        -9.52078705e+02]]), array([[0.        ],\n",
       "       [0.        ],\n",
       "       [0.        ],\n",
       "       [0.38083148]]), array([[1., 0., 0., 0.],\n",
       "       [0., 1., 0., 0.],\n",
       "       [0., 0., 0., 1.]]), array([[0.],\n",
       "       [0.],\n",
       "       [0.]]))"
      ]
     },
     "execution_count": 73,
     "metadata": {},
     "output_type": "execute_result"
    }
   ],
   "source": [
    "#Espaço de Estados com Ω = 8000 rpm:\n",
    "mod_boat1 = ct.ss(An(8000*np.pi/30),B,C,D)\n",
    "mod_boat1\n"
   ]
  },
  {
   "cell_type": "markdown",
   "id": "8afa3023-a6b4-47f6-97e7-b76655490a18",
   "metadata": {},
   "source": [
    "Agora, com o modelo SLIT estabelecido, vamos analisar a controlabilidade e a observabilidade do sistema:"
   ]
  },
  {
   "cell_type": "code",
   "execution_count": 46,
   "id": "2f5969ad-1dce-4b9e-8503-7475a9ab5949",
   "metadata": {
    "tags": []
   },
   "outputs": [
    {
     "data": {
      "text/plain": [
       "array([[ 0.00000000e+00,  0.00000000e+00, -1.84774660e-01,\n",
       "         1.75922668e+02],\n",
       "       [ 0.00000000e+00,  3.80831482e-01, -3.62581544e+02,\n",
       "         3.44789483e+05],\n",
       "       [ 0.00000000e+00, -1.84774660e-01,  1.75922668e+02,\n",
       "        -1.67287766e+05],\n",
       "       [ 3.80831482e-01, -3.62581544e+02,  3.44789483e+05,\n",
       "        -3.27870003e+08]])"
      ]
     },
     "execution_count": 46,
     "metadata": {},
     "output_type": "execute_result"
    }
   ],
   "source": [
    "ct.ctrb(An(8000*np.pi/30),B)"
   ]
  },
  {
   "cell_type": "code",
   "execution_count": 47,
   "id": "a1900d36-9813-48b4-a679-03fc52ccd7e9",
   "metadata": {
    "tags": []
   },
   "outputs": [
    {
     "data": {
      "text/plain": [
       "4"
      ]
     },
     "execution_count": 47,
     "metadata": {},
     "output_type": "execute_result"
    }
   ],
   "source": [
    "np.linalg.matrix_rank(ct.ctrb(An(8000*np.pi/30),B))"
   ]
  },
  {
   "cell_type": "code",
   "execution_count": 48,
   "id": "20c049c0-011e-4d8e-9848-54325058ead1",
   "metadata": {
    "tags": []
   },
   "outputs": [
    {
     "data": {
      "text/plain": [
       "array([[ 1.00000000e+00,  0.00000000e+00,  0.00000000e+00,\n",
       "         0.00000000e+00],\n",
       "       [ 0.00000000e+00,  1.00000000e+00,  0.00000000e+00,\n",
       "         0.00000000e+00],\n",
       "       [ 0.00000000e+00,  0.00000000e+00,  0.00000000e+00,\n",
       "         1.00000000e+00],\n",
       "       [ 0.00000000e+00,  0.00000000e+00,  1.00000000e+00,\n",
       "         0.00000000e+00],\n",
       "       [ 0.00000000e+00,  0.00000000e+00,  0.00000000e+00,\n",
       "         1.00000000e+00],\n",
       "       [ 0.00000000e+00, -1.90415741e+02,  1.86263576e+03,\n",
       "        -9.52078705e+02],\n",
       "       [-1.23909097e+01,  0.00000000e+00, -1.43334663e-02,\n",
       "        -4.85187463e-01],\n",
       "       [ 0.00000000e+00, -1.90415741e+02,  1.86263576e+03,\n",
       "        -9.52078705e+02],\n",
       "       [-2.30797515e+04,  1.81290772e+05, -1.77340254e+06,\n",
       "         9.05359718e+05],\n",
       "       [ 1.77604687e-01,  9.23873302e+01, -9.16118223e+02,\n",
       "         4.61943606e+02],\n",
       "       [-2.30797515e+04,  1.81290772e+05, -1.77340254e+06,\n",
       "         9.05359718e+05],\n",
       "       [ 2.19740708e+07, -1.72394742e+08,  1.68635773e+09,\n",
       "        -8.60931984e+08]])"
      ]
     },
     "execution_count": 48,
     "metadata": {},
     "output_type": "execute_result"
    }
   ],
   "source": [
    "ct.obsv(An(8000*np.pi/30),C)"
   ]
  },
  {
   "cell_type": "code",
   "execution_count": 49,
   "id": "5e0e4eb1-7d57-4162-9547-39382c5f3f1b",
   "metadata": {
    "tags": []
   },
   "outputs": [
    {
     "data": {
      "text/plain": [
       "4"
      ]
     },
     "execution_count": 49,
     "metadata": {},
     "output_type": "execute_result"
    }
   ],
   "source": [
    "np.linalg.matrix_rank(ct.obsv(An(8000*np.pi/30),C))"
   ]
  },
  {
   "cell_type": "markdown",
   "id": "54b1095a-6efa-42c0-8c76-0fbb67114afd",
   "metadata": {},
   "source": [
    "Síntese por alocação de Polos:"
   ]
  },
  {
   "cell_type": "code",
   "execution_count": 50,
   "id": "d594917b-2b03-4f16-92c9-0f5f6a9388da",
   "metadata": {
    "tags": []
   },
   "outputs": [
    {
     "data": {
      "text/plain": [
       "(array([-9.50928098e+02+0.j       , -4.80871936e-01+3.4611418j,\n",
       "        -4.80871936e-01-3.4611418j, -2.03196565e-01+0.j       ]),\n",
       " array([[-5.36555323e-07+0.j        , -2.37020339e-02-0.12225177j,\n",
       "         -2.37020339e-02+0.12225177j,  7.77285344e-03+0.j        ],\n",
       "        [-1.05160350e-03+0.j        , -3.37610485e-02-0.24299978j,\n",
       "         -3.37610485e-02+0.24299978j,  9.79942810e-01+0.j        ],\n",
       "        [ 5.10225533e-04+0.j        ,  4.34528353e-01-0.02324866j,\n",
       "          4.34528353e-01+0.02324866j, -1.57941712e-03+0.j        ],\n",
       "        [ 9.99999317e-01+0.j        ,  8.57291448e-01+0.j        ,\n",
       "          8.57291448e-01-0.j        , -1.99121013e-01+0.j        ]]))"
      ]
     },
     "execution_count": 50,
     "metadata": {},
     "output_type": "execute_result"
    }
   ],
   "source": [
    "#Polos da Matriz A original:\n",
    "np.linalg.eig(An(8000*np.pi/30))"
   ]
  },
  {
   "cell_type": "code",
   "execution_count": 51,
   "id": "6dc024f4-9144-45d5-81d0-6d3654a6d20b",
   "metadata": {
    "tags": []
   },
   "outputs": [
    {
     "data": {
      "text/latex": [
       "$\\displaystyle \\operatorname{PurePoly}{\\left( 1.0 \\lambda^{4} + 952.093038639246 \\lambda^{3} + \\left(0.00128765730763755 Ω^{2} + 216.453238766947\\right) \\lambda^{2} + 11799.8505912531 \\lambda + 2359.42425472976, \\lambda, domain=\\mathbb{R}\\left[Ω\\right] \\right)}$"
      ],
      "text/plain": [
       "PurePoly(1.0*lambda**4 + 952.093038639246*lambda**3 + (0.00128765730763755*Ω**2 + 216.453238766947)*lambda**2 + 11799.8505912531*lambda + 2359.42425472976, lambda, domain='RR[Ω]')"
      ]
     },
     "execution_count": 51,
     "metadata": {},
     "output_type": "execute_result"
    }
   ],
   "source": [
    "#Polinômio caracterísco da Matriz A:\n",
    "p = A.charpoly()\n",
    "p"
   ]
  },
  {
   "cell_type": "code",
   "execution_count": 52,
   "id": "534ebc6c-3c51-41df-95fd-77d5f16c77a9",
   "metadata": {
    "tags": []
   },
   "outputs": [
    {
     "data": {
      "text/plain": [
       "[1.00000000000000,\n",
       " 952.093038639246,\n",
       " 0.00128765730763755*Ω**2 + 216.453238766947,\n",
       " 11799.8505912531,\n",
       " 2359.42425472976]"
      ]
     },
     "execution_count": 52,
     "metadata": {},
     "output_type": "execute_result"
    }
   ],
   "source": [
    "a = p.all_coeffs()\n",
    "a"
   ]
  },
  {
   "cell_type": "code",
   "execution_count": 53,
   "id": "e097e26a-25f5-4570-b942-18aade4b2aaf",
   "metadata": {
    "tags": []
   },
   "outputs": [
    {
     "data": {
      "text/latex": [
       "$\\displaystyle \\left[\\begin{matrix}0 & 0 & - 0.000220558504262905 Ω & 0.209992216521396 Ω\\\\0 & 0.380831482069184 & -362.581544337529 & 345133.650943619 - 0.000490380440864823 Ω^{2}\\\\0 & - 0.000220558504262905 Ω & 0.209992216521396 Ω & - 0.000220558504262905 Ω \\left(- 0.00128765730763755 Ω^{2} - 12.3907042628334\\right) - 199.88711979106 Ω\\\\0.380831482069184 & -362.581544337529 & 345133.650943619 - 0.000490380440864823 Ω^{2} & 0.93376857921297 Ω^{2} - 328525358.268567\\end{matrix}\\right]$"
      ],
      "text/plain": [
       "Matrix([\n",
       "[                0,                       0,                      -0.000220558504262905*Ω,                                                                        0.209992216521396*Ω],\n",
       "[                0,       0.380831482069184,                            -362.581544337529,                                               345133.650943619 - 0.000490380440864823*Ω**2],\n",
       "[                0, -0.000220558504262905*Ω,                          0.209992216521396*Ω, -0.000220558504262905*Ω*(-0.00128765730763755*Ω**2 - 12.3907042628334) - 199.88711979106*Ω],\n",
       "[0.380831482069184,       -362.581544337529, 345133.650943619 - 0.000490380440864823*Ω**2,                                                   0.93376857921297*Ω**2 - 328525358.268567]])"
      ]
     },
     "execution_count": 53,
     "metadata": {},
     "output_type": "execute_result"
    }
   ],
   "source": [
    "#Matriz Q:\n",
    "Q = sp.Matrix([[B, A*B, A*A*B, A*A*A*B]])\n",
    "Q"
   ]
  },
  {
   "cell_type": "code",
   "execution_count": 54,
   "id": "3bda4240-1b40-4f1e-b91e-2ed4738c1355",
   "metadata": {
    "tags": []
   },
   "outputs": [
    {
     "data": {
      "text/latex": [
       "$\\displaystyle \\left[\\begin{matrix}1 & 952.093038639246 & 0.00128765730763755 Ω^{2} + 216.453238766947 & 11799.8505912531\\\\0 & 1 & 952.093038639246 & 0.00128765730763755 Ω^{2} + 216.453238766947\\\\0 & 0 & 1 & 952.093038639246\\\\0 & 0 & 0 & 1\\end{matrix}\\right]$"
      ],
      "text/plain": [
       "Matrix([\n",
       "[1, 952.093038639246, 0.00128765730763755*Ω**2 + 216.453238766947,                            11799.8505912531],\n",
       "[0,                1,                            952.093038639246, 0.00128765730763755*Ω**2 + 216.453238766947],\n",
       "[0,                0,                                           1,                            952.093038639246],\n",
       "[0,                0,                                           0,                                           1]])"
      ]
     },
     "execution_count": 54,
     "metadata": {},
     "output_type": "execute_result"
    }
   ],
   "source": [
    "#Matriz Toeplitz W:\n",
    "W = sp.Matrix([[1, a[1],a[2],a[3]],[0,1,a[1],a[2]],[0,0,1,a[1]],[0,0,0,1]])\n",
    "W"
   ]
  },
  {
   "cell_type": "code",
   "execution_count": 55,
   "id": "2c430c64-94dc-4244-9a5d-8b4e90654182",
   "metadata": {
    "tags": []
   },
   "outputs": [
    {
     "data": {
      "text/plain": [
       "[1,\n",
       " R + r + 2*ζ*ω_n,\n",
       " R*r + 2*R*ζ*ω_n + 2*r*ζ*ω_n + ω_n**2,\n",
       " 2*R*r*ζ*ω_n + R*ω_n**2 + r*ω_n**2,\n",
       " R*r*ω_n**2]"
      ]
     },
     "execution_count": 55,
     "metadata": {},
     "output_type": "execute_result"
    }
   ],
   "source": [
    "# Polos desejados para alocação em MF\n",
    "#Pretende-se manter\n",
    "λ, ζ, ω_n, r, R = sp.symbols('λ ζ ω_n r R')\n",
    "p_ = sp.PurePoly((λ + r) * (λ + R) * ((λ + ζ*ω_n)**2 + ω_n**2 * (1 - ζ**2)), λ)\n",
    "a_ = p_.all_coeffs()\n",
    "a_"
   ]
  },
  {
   "cell_type": "code",
   "execution_count": 56,
   "id": "2ac674cf-6afb-4512-82bc-bbe1f644c51b",
   "metadata": {
    "tags": []
   },
   "outputs": [
    {
     "data": {
      "text/latex": [
       "$\\displaystyle \\left[\\begin{matrix}\\left(1.52897933540946 \\cdot 10^{-15} Ω + \\frac{56179.6959603744}{Ω}\\right) \\left(R + r + 2 ζ ω_{n} - 952.093038639246\\right) + \\frac{5.24474320422005 \\left(R r ω_{n}^{2} - 2359.42425472976\\right)}{Ω} - \\frac{4533.9444214221 \\cdot \\left(2 R r ζ ω_{n} + R ω_{n}^{2} + r ω_{n}^{2} - 11799.8505912531\\right)}{Ω} + \\frac{1.13502090084848 \\cdot 10^{-9} \\left(R r + 2 R ζ ω_{n} + 2 r ζ ω_{n} - 0.00128765730763755 Ω^{2} + ω_{n}^{2} - 216.453238766947\\right)}{Ω}\\\\- 4.676585101913 \\cdot 10^{-14} R r ζ ω_{n} + 0.211916105800409 R r ω_{n}^{2} + 2.28073753801061 \\cdot 10^{-11} R r + 4.56147507602121 \\cdot 10^{-11} R ζ ω_{n} - 2.3382925509565 \\cdot 10^{-14} R ω_{n}^{2} + 4.56147507602121 \\cdot 10^{-11} r ζ ω_{n} - 2.3382925509565 \\cdot 10^{-14} r ω_{n}^{2} - 2.93680835762263 \\cdot 10^{-14} Ω^{2} + 2.28073753801061 \\cdot 10^{-11} ω_{n}^{2} + \\left(6.17790679148141 \\cdot 10^{-17} Ω^{2} - 3.3167588621118 \\cdot 10^{-8}\\right) \\left(R + r + 2 ζ ω_{n} - 952.093038639246\\right) - 499.999999998023\\\\\\left(1.06671987432445 \\cdot 10^{-13} Ω + \\frac{64.9870822336934}{Ω}\\right) \\left(R + r + 2 ζ ω_{n} - 952.093038639246\\right) + \\frac{365.908922514729 \\left(R r ω_{n}^{2} - 2359.42425472976\\right)}{Ω} - \\frac{4.78882314435891 \\cdot 10^{-11} \\cdot \\left(2 R r ζ ω_{n} + R ω_{n}^{2} + r ω_{n}^{2} - 11799.8505912531\\right)}{Ω} - \\frac{4533.94442138272 \\left(R r + 2 R ζ ω_{n} + 2 r ζ ω_{n} - 0.00128765730763755 Ω^{2} + ω_{n}^{2} - 216.453238766947\\right)}{Ω}\\\\2.62583333333333 R + 2.62583333333333 r + 5.25166666666667 ζ ω_{n} - 2500.03763729355\\end{matrix}\\right]$"
      ],
      "text/plain": [
       "Matrix([\n",
       "[                                                         (1.52897933540946e-15*Ω + 56179.6959603744/Ω)*(R + r + 2*ζ*ω_n - 952.093038639246) + 5.24474320422005*(R*r*ω_n**2 - 2359.42425472976)/Ω - 4533.9444214221*(2*R*r*ζ*ω_n + R*ω_n**2 + r*ω_n**2 - 11799.8505912531)/Ω + 1.13502090084848e-9*(R*r + 2*R*ζ*ω_n + 2*r*ζ*ω_n - 0.00128765730763755*Ω**2 + ω_n**2 - 216.453238766947)/Ω],\n",
       "[-4.676585101913e-14*R*r*ζ*ω_n + 0.211916105800409*R*r*ω_n**2 + 2.28073753801061e-11*R*r + 4.56147507602121e-11*R*ζ*ω_n - 2.3382925509565e-14*R*ω_n**2 + 4.56147507602121e-11*r*ζ*ω_n - 2.3382925509565e-14*r*ω_n**2 - 2.93680835762263e-14*Ω**2 + 2.28073753801061e-11*ω_n**2 + (6.17790679148141e-17*Ω**2 - 3.3167588621118e-8)*(R + r + 2*ζ*ω_n - 952.093038639246) - 499.999999998023],\n",
       "[                                                       (1.06671987432445e-13*Ω + 64.9870822336934/Ω)*(R + r + 2*ζ*ω_n - 952.093038639246) + 365.908922514729*(R*r*ω_n**2 - 2359.42425472976)/Ω - 4.78882314435891e-11*(2*R*r*ζ*ω_n + R*ω_n**2 + r*ω_n**2 - 11799.8505912531)/Ω - 4533.94442138272*(R*r + 2*R*ζ*ω_n + 2*r*ζ*ω_n - 0.00128765730763755*Ω**2 + ω_n**2 - 216.453238766947)/Ω],\n",
       "[                                                                                                                                                                                                                                                                                                     2.62583333333333*R + 2.62583333333333*r + 5.25166666666667*ζ*ω_n - 2500.03763729355]])"
      ]
     },
     "execution_count": 56,
     "metadata": {},
     "output_type": "execute_result"
    }
   ],
   "source": [
    "k = ((Q*W).inv()).T * (sp.Matrix(a_[1:]) - sp.Matrix(a[1:]))\n",
    "kn = sp.lambdify((Omega, R, ζ, ω_n, r), k)\n",
    "k"
   ]
  },
  {
   "cell_type": "code",
   "execution_count": 87,
   "id": "e5b65280-d7e9-45db-a248-f22a62c7ac2f",
   "metadata": {
    "tags": []
   },
   "outputs": [
    {
     "data": {
      "text/plain": [
       "array([[-9.31638930e+02,  3.43001837e+03, -1.10627261e+04,\n",
       "         6.82596867e+00]])"
      ]
     },
     "execution_count": 87,
     "metadata": {},
     "output_type": "execute_result"
    }
   ],
   "source": [
    "# Polos desejados para alocação em MF com a função control.place():\n",
    "kT = ct.place(An(8000*np.pi/30), Bn(), [-1.0+2.5j, -1.0-2.5j, -np.sqrt(1**2 + 2.5**2), -950.0])\n",
    "kT"
   ]
  },
  {
   "cell_type": "markdown",
   "id": "8cd9d304-48e4-4fc6-9df6-028a8a574767",
   "metadata": {},
   "source": [
    "Análise do sistema em malha fechada:"
   ]
  },
  {
   "cell_type": "code",
   "execution_count": 58,
   "id": "903390d6-bf8d-4bb0-8ff2-81fe836397cd",
   "metadata": {
    "tags": []
   },
   "outputs": [
    {
     "data": {
      "text/latex": [
       "$\\displaystyle \\left[\\begin{matrix}0 & 0 & 1 & 0\\\\0 & 0 & 0 & 1\\\\-12.3909097110891 & 0 & -0.0143334662850031 & - 0.000579149872443677 Ω\\\\- 0.380831482069184 \\cdot \\left(1.52897933540946 \\cdot 10^{-15} Ω + \\frac{56179.6959603744}{Ω}\\right) \\left(R + r + 2 ζ ω_{n} - 952.093038639246\\right) - \\frac{1.99736332753541 \\left(R r ω_{n}^{2} - 2359.42425472976\\right)}{Ω} + \\frac{1726.66877362949 \\cdot \\left(2 R r ζ ω_{n} + R ω_{n}^{2} + r ω_{n}^{2} - 11799.8505912531\\right)}{Ω} - \\frac{4.32251691849626 \\cdot 10^{-10} \\left(R r + 2 R ζ ω_{n} + 2 r ζ ω_{n} - 0.00128765730763755 Ω^{2} + ω_{n}^{2} - 216.453238766947\\right)}{Ω} & 1.78099083538419 \\cdot 10^{-14} R r ζ ω_{n} - 0.0807043246462998 R r ω_{n}^{2} - 8.68576656811402 \\cdot 10^{-12} R r - 1.7371533136228 \\cdot 10^{-11} R ζ ω_{n} + 8.90495417692097 \\cdot 10^{-15} R ω_{n}^{2} - 1.7371533136228 \\cdot 10^{-11} r ζ ω_{n} + 8.90495417692097 \\cdot 10^{-15} r ω_{n}^{2} + 1.11842907938659 \\cdot 10^{-14} Ω^{2} - 8.68576656811402 \\cdot 10^{-12} ω_{n}^{2} - 0.380831482069184 \\cdot \\left(6.17790679148141 \\cdot 10^{-17} Ω^{2} - 3.3167588621118 \\cdot 10^{-8}\\right) \\left(R + r + 2 ζ ω_{n} - 952.093038639246\\right) - 7.5272055255482 \\cdot 10^{-10} & 2.22335766423358 Ω - 0.380831482069184 \\cdot \\left(1.06671987432445 \\cdot 10^{-13} Ω + \\frac{64.9870822336934}{Ω}\\right) \\left(R + r + 2 ζ ω_{n} - 952.093038639246\\right) - \\frac{139.349637263623 \\left(R r ω_{n}^{2} - 2359.42425472976\\right)}{Ω} + \\frac{1.82373461543341 \\cdot 10^{-11} \\cdot \\left(2 R r ζ ω_{n} + R ω_{n}^{2} + r ω_{n}^{2} - 11799.8505912531\\right)}{Ω} + \\frac{1726.66877361449 \\left(R r + 2 R ζ ω_{n} + 2 r ζ ω_{n} - 0.00128765730763755 Ω^{2} + ω_{n}^{2} - 216.453238766947\\right)}{Ω} & - 1.0 R - 1.0 r - 2.0 ζ ω_{n} + 0.0143334662848247\\end{matrix}\\right]$"
      ],
      "text/plain": [
       "Matrix([\n",
       "[                                                                                                                                                                                                                                                                                                                                                   0,                                                                                                                                                                                                                                                                                                                                                                                                               0,                                                                                                                                                                                                                                                                                                                                                                        1,                                               0],\n",
       "[                                                                                                                                                                                                                                                                                                                                                   0,                                                                                                                                                                                                                                                                                                                                                                                                               0,                                                                                                                                                                                                                                                                                                                                                                        0,                                               1],\n",
       "[                                                                                                                                                                                                                                                                                                                                   -12.3909097110891,                                                                                                                                                                                                                                                                                                                                                                                                               0,                                                                                                                                                                                                                                                                                                                                                      -0.0143334662850031,                         -0.000579149872443677*Ω],\n",
       "[-0.380831482069184*(1.52897933540946e-15*Ω + 56179.6959603744/Ω)*(R + r + 2*ζ*ω_n - 952.093038639246) - 1.99736332753541*(R*r*ω_n**2 - 2359.42425472976)/Ω + 1726.66877362949*(2*R*r*ζ*ω_n + R*ω_n**2 + r*ω_n**2 - 11799.8505912531)/Ω - 4.32251691849626e-10*(R*r + 2*R*ζ*ω_n + 2*r*ζ*ω_n - 0.00128765730763755*Ω**2 + ω_n**2 - 216.453238766947)/Ω, 1.78099083538419e-14*R*r*ζ*ω_n - 0.0807043246462998*R*r*ω_n**2 - 8.68576656811402e-12*R*r - 1.7371533136228e-11*R*ζ*ω_n + 8.90495417692097e-15*R*ω_n**2 - 1.7371533136228e-11*r*ζ*ω_n + 8.90495417692097e-15*r*ω_n**2 + 1.11842907938659e-14*Ω**2 - 8.68576656811402e-12*ω_n**2 - 0.380831482069184*(6.17790679148141e-17*Ω**2 - 3.3167588621118e-8)*(R + r + 2*ζ*ω_n - 952.093038639246) - 7.5272055255482e-10, 2.22335766423358*Ω - 0.380831482069184*(1.06671987432445e-13*Ω + 64.9870822336934/Ω)*(R + r + 2*ζ*ω_n - 952.093038639246) - 139.349637263623*(R*r*ω_n**2 - 2359.42425472976)/Ω + 1.82373461543341e-11*(2*R*r*ζ*ω_n + R*ω_n**2 + r*ω_n**2 - 11799.8505912531)/Ω + 1726.66877361449*(R*r + 2*R*ζ*ω_n + 2*r*ζ*ω_n - 0.00128765730763755*Ω**2 + ω_n**2 - 216.453238766947)/Ω, -1.0*R - 1.0*r - 2.0*ζ*ω_n + 0.0143334662848247]])"
      ]
     },
     "execution_count": 58,
     "metadata": {},
     "output_type": "execute_result"
    }
   ],
   "source": [
    "#Matriz de Estados em MF Simbólica:\n",
    "A_c = A - B*k.T\n",
    "A_cn = sp.lambdify((Omega, R, ζ, ω_n, r), A_c)\n",
    "A_c"
   ]
  },
  {
   "cell_type": "code",
   "execution_count": 94,
   "id": "ae026c07-b401-4d8a-b325-4f1731e0f4be",
   "metadata": {
    "tags": []
   },
   "outputs": [
    {
     "data": {
      "text/latex": [
       "$\\displaystyle \\left[\\begin{matrix}0 & 0 & 1.0 & 0\\\\0 & 0 & 0 & 1.0\\\\-12.3909097110891 & 0 & -0.0143334662850031 & -0.485187462559072\\\\354.797434284643 & -1496.67471856184 & 6075.67012527663 & -954.678248937282\\end{matrix}\\right]$"
      ],
      "text/plain": [
       "Matrix([\n",
       "[                0,                 0,                 1.0,                  0],\n",
       "[                0,                 0,                   0,                1.0],\n",
       "[-12.3909097110891,                 0, -0.0143334662850031, -0.485187462559072],\n",
       "[ 354.797434284643, -1496.67471856184,    6075.67012527663,  -954.678248937282]])"
      ]
     },
     "execution_count": 94,
     "metadata": {},
     "output_type": "execute_result"
    }
   ],
   "source": [
    "#Matriz de Estados em MF a partir do ct.place() para 8000 rpm:\n",
    "\n",
    "A_c1 = An(8000*np.pi/30) - B*kT\n",
    "A_cn1 = An(8000*np.pi/30) - Bn()*kT\n",
    "A_c1"
   ]
  },
  {
   "cell_type": "code",
   "execution_count": 89,
   "id": "eb1a4f18-3212-40ca-b550-21dc2d5d5578",
   "metadata": {
    "tags": []
   },
   "outputs": [
    {
     "data": {
      "text/plain": [
       "(array([-950.       +0.j ,   -1.       +2.5j,   -1.       -2.5j,\n",
       "          -2.6925824+0.j ]),\n",
       " array([[ 5.37604199e-07+0.j        ,  4.24936516e-02+0.02959985j,\n",
       "          4.24936516e-02-0.02959985j, -2.31516457e-02+0.j        ],\n",
       "        [ 1.05263086e-03+0.j        ,  1.27863214e-01+0.31965803j,\n",
       "          1.27863214e-01-0.31965803j, -3.47384690e-01+0.j        ],\n",
       "        [-5.10723989e-04+0.j        , -1.16493265e-01+0.07663428j,\n",
       "         -1.16493265e-01-0.07663428j,  6.23377139e-02+0.j        ],\n",
       "        [-9.99999316e-01+0.j        , -9.27008298e-01+0.j        ,\n",
       "         -9.27008298e-01-0.j        ,  9.35361902e-01+0.j        ]]))"
      ]
     },
     "execution_count": 89,
     "metadata": {},
     "output_type": "execute_result"
    }
   ],
   "source": [
    "np.linalg.eig(A_cn1)"
   ]
  },
  {
   "cell_type": "code",
   "execution_count": 61,
   "id": "389154a4-6541-4acd-9eef-463a3873d9d3",
   "metadata": {
    "tags": []
   },
   "outputs": [
    {
     "data": {
      "text/latex": [
       "$\\displaystyle \\operatorname{PurePoly}{\\left( 1.0 \\lambda^{4} + 955.0 \\lambda^{3} + 4763.25000000002 \\lambda^{2} + 12609.2500000001 \\lambda + 20662.5000000001, \\lambda, domain=\\mathbb{R} \\right)}$"
      ],
      "text/plain": [
       "PurePoly(1.0*lambda**4 + 955.0*lambda**3 + 4763.25000000002*lambda**2 + 12609.2500000001*lambda + 20662.5000000001, lambda, domain='RR')"
      ]
     },
     "execution_count": 61,
     "metadata": {},
     "output_type": "execute_result"
    }
   ],
   "source": [
    "(A_c1).charpoly()"
   ]
  },
  {
   "cell_type": "markdown",
   "id": "4b9d9103-6d56-4342-ae23-65ac02af3127",
   "metadata": {},
   "source": [
    "Simulação do Sistema Controlado:"
   ]
  },
  {
   "cell_type": "code",
   "execution_count": 90,
   "id": "e0408379-ce1f-44ea-843e-1662885e6b19",
   "metadata": {},
   "outputs": [],
   "source": [
    "def mod_boat_PP_sim(Omega, R, ζ, ω_n, r):\n",
    "    mod_boat_MF = ct.ss(A_cn, E,\n",
    "                         -kn(Omega, R, ζ, ω_n, r).T, np.array([[0]]))\n",
    "    ts = np.linspace(0, 20, 1001)\n",
    "    w = np.linspace(0.1, 0.1, 1001)\n",
    "    x0 = [(15*np.pi/180), 0.0, 0.0, 0.0]\n",
    "    t, y, x = ct.forced_response(mod_boat_MF, U=0, T=ts, X0=x0, return_x=True)\n",
    "    return (t, y, x)\n",
    "    "
   ]
  },
  {
   "cell_type": "code",
   "execution_count": 91,
   "id": "09f2ba3d-7f6d-48b9-86e8-64551e5a7056",
   "metadata": {
    "tags": []
   },
   "outputs": [
    {
     "data": {
      "application/vnd.jupyter.widget-view+json": {
       "model_id": "7b2691771a484dbb8c572ec421bf80a6",
       "version_major": 2,
       "version_minor": 0
      },
      "text/plain": [
       "interactive(children=(FloatSlider(value=837.7580409572781, description='Ω:', max=1047.1975511965977, step=50.0…"
      ]
     },
     "execution_count": 91,
     "metadata": {},
     "output_type": "execute_result"
    }
   ],
   "source": [
    "def update_plot_sim(Omega, R, ζ, ω_n, r):\n",
    "    t, u, x = mod_boat_PP_sim(Omega, R, ζ, ω_n, r)\n",
    "    fig, (state, control_input) = plt.subplots(\n",
    "        2, 1, figsize=(5, 7), sharex=True)\n",
    "    \n",
    "    state.plot(t, x[0, :], color=cp['red'], label=r'$\\phi$')\n",
    "    state.plot(t, x[1, :], color=cp['blue'], label=r'$\\theta$')\n",
    "    state.plot(t, x[2, :], color=cp['green'], label=r'$\\dot \\phi$')\n",
    "    state.plot(t, x[3, :], color=cp['turquoise'], label=r'$ \\dot \\theta$')\n",
    "    # state.plot(t, x[:, 2], color='black', label=r'$x_3$')\n",
    "    state.set_ylabel(r'$x$')\n",
    "    state.set_xlabel(r'$t$')\n",
    "    state.legend()\n",
    "\n",
    "    control_input.plot(t, u, color=cp['orange'], label=r'$u$')\n",
    "    control_input.set_ylabel(r'$u$')\n",
    "    control_input.set_xlabel(r'$t$')\n",
    "    control_input.legend()\n",
    "\n",
    "\n",
    "# Create sliders\n",
    "Omega_slider = widgets.FloatSlider(\n",
    "    value=(8000*np.pi/30), min = 0, max=(10000*np.pi/30), step=50.0, description='Ω:')\n",
    "R_slider = widgets.FloatSlider(\n",
    "    value=-1009.43, min = -1050.0, max=-1000.0, step=2.0, description='R:')\n",
    "ζ_slider = widgets.FloatSlider(\n",
    "    value=0.71, min=0, max=1, step=0.01, description='ζ:')\n",
    "ω_n_slider = widgets.FloatSlider(\n",
    "    value=1.0, min=0, max=5.0, step=0.01, description='ω_n:')\n",
    "r_slider = widgets.FloatSlider(\n",
    "    value=1.0, min=0.0, max=5.0, step=0.01, description='r:')\n",
    "\n",
    "# Create the interactive plot\n",
    "interactive_plot_sim = interactive(\n",
    "    update_plot_sim, Omega=Omega_slider, ζ=ζ_slider, ω_n=ω_n_slider, r=r_slider, R=R_slider)\n",
    "output_sim = interactive_plot_sim.children[-1]\n",
    "output_sim.layout.height = '600px'\n",
    "interactive_plot_sim"
   ]
  },
  {
   "cell_type": "code",
   "execution_count": 95,
   "id": "3f937e94-195f-4278-8c86-c2e37233bde8",
   "metadata": {},
   "outputs": [
    {
     "data": {
      "text/plain": [
       "array([[list([<matplotlib.lines.Line2D object at 0x000001E5DC72D190>]),\n",
       "        list([<matplotlib.lines.Line2D object at 0x000001E5DC793550>])]],\n",
       "      dtype=object)"
      ]
     },
     "execution_count": 95,
     "metadata": {},
     "output_type": "execute_result"
    },
    {
     "data": {
      "image/png": "[encoded data removed]",
      "text/plain": [
       "<Figure size 640x480 with 1 Axes>"
      ]
     },
     "metadata": {},
     "output_type": "display_data"
    }
   ],
   "source": [
    "mod_boat_U = ct.ss(A_cn1, B, -kT, np.array([[0]]))\n",
    "ct.pzmap(mod_boat_U, xlim = [-30, 10])"
   ]
  },
  {
   "cell_type": "code",
   "execution_count": 96,
   "id": "d0e6a38f-5530-4b57-b5f6-5ee40ef46e84",
   "metadata": {},
   "outputs": [
    {
     "data": {
      "text/plain": [
       "<matplotlib.legend.Legend at 0x1e5dc3d3d90>"
      ]
     },
     "execution_count": 96,
     "metadata": {},
     "output_type": "execute_result"
    },
    {
     "data": {
      "image/png": "[encoded data removed]",
      "text/plain": [
       "<Figure size 500x700 with 2 Axes>"
      ]
     },
     "metadata": {},
     "output_type": "display_data"
    }
   ],
   "source": [
    "ts = np.linspace(0, 20, 1001)\n",
    "w = np.linspace(0.1, 0.1, 1001)\n",
    "x0 = [(15*np.pi/180), 0.0, 0.0, 0.0]\n",
    "t, u, x = ct.forced_response(mod_boat_U, U=0, T=ts, X0=x0, return_x=True)\n",
    "\n",
    "fig, (state, control_input) = plt.subplots(\n",
    "    2, 1, figsize=(5, 7), sharex=True)\n",
    "\n",
    "state.plot(t, (x[0, :]*180/np.pi), color=cp['red'], label=r'$\\phi (°)$')\n",
    "state.plot(t, (x[1, :]*180/np.pi), color=cp['blue'], label=r'$\\theta (°)$')\n",
    "#state.plot(t, x[2, :], color=cp['red'], label=r'$\\dot\\phi$')\n",
    "#state.plot(t, x[3, :], color=cp['red'], label=r'$\\dot\\theta$')\n",
    "# state.plot(t, x[:, 2], color='black', label=r'$x_3$')\n",
    "state.set_ylabel(r'$x$')\n",
    "state.set_xlabel(r'$t$')\n",
    "state.legend()\n",
    "\n",
    "control_input.plot(t, u, color=cp['orange'], label=r'$u$')\n",
    "control_input.set_ylabel(r'$u$')\n",
    "control_input.set_xlabel(r'$t$')\n",
    "control_input.legend()"
   ]
  },
  {
   "cell_type": "code",
   "execution_count": 66,
   "id": "c5fbdeb7-f5d7-420f-9b73-a0575091c33f",
   "metadata": {
    "tags": []
   },
   "outputs": [],
   "source": [
    "#Parâmetros para inserção de perturbações:\n",
    "Freqadm = np.sqrt(Bb/(2*g))\n",
    "lda = g*2*np.pi/wf\n",
    "k0 = 2*np.pi/lda \n",
    "aphm0 = A0/lda\n"
   ]
  },
  {
   "cell_type": "code",
   "execution_count": 67,
   "id": "6c51302d-ffb8-4969-8c81-9d238433dbe5",
   "metadata": {},
   "outputs": [],
   "source": [
    "mod_boat_E = ct.ss(A_cn1, E, C, np.array([[0],[0],[0]]))"
   ]
  },
  {
   "cell_type": "code",
   "execution_count": 85,
   "id": "0905eec4-eb46-49fe-b70f-95f7ac8d1ae2",
   "metadata": {
    "tags": []
   },
   "outputs": [
    {
     "data": {
      "text/plain": [
       "<matplotlib.legend.Legend at 0x1e5dbc3a350>"
      ]
     },
     "execution_count": 85,
     "metadata": {},
     "output_type": "execute_result"
    },
    {
     "data": {
      "image/png": "[encoded data removed]",
      "text/plain": [
       "<Figure size 500x700 with 2 Axes>"
      ]
     },
     "metadata": {},
     "output_type": "display_data"
    }
   ],
   "source": [
    "ts = np.linspace(0, 20, 1001)\n",
    "w = np.linspace(0.1, 0.1, 1001)\n",
    "x0 = [(15.0*np.pi/180), 0.0, 0.0, 0.0]\n",
    "t, y, x = ct.forced_response(mod_boat_E, U = aphm0*np.sin(wf*ts), T=ts, X0=x0, return_x=True)\n",
    "\n",
    "fig, (state, control_input) = plt.subplots(\n",
    "    2, 1, figsize=(5, 7), sharex=True)\n",
    "\n",
    "state.plot(t, (x[0, :]*180/np.pi), color=cp['red'], label=r'$\\phi (°)$')\n",
    "#state.plot(t, (x[1, :]*180/np.pi), color=cp['blue'], label=r'$\\theta (°)$')\n",
    "#state.plot(t, x[2, :], color=cp['red'], label=r'$\\dot\\phi$')\n",
    "#state.plot(t, x[3, :], color=cp['red'], label=r'$\\dot\\theta$')\n",
    "# state.plot(t, x[:, 2], color='black', label=r'$x_3$')\n",
    "state.set_ylabel(r'$x$')\n",
    "state.set_xlabel(r'$t$')\n",
    "state.legend()\n",
    "\n",
    "control_input.plot(t, y[2,:], color=cp['orange'], label=r'$\\dot \\theta$')\n",
    "control_input.set_ylabel(r'$y$')\n",
    "control_input.set_xlabel(r'$t$')\n",
    "control_input.legend()"
   ]
  },
  {
   "cell_type": "code",
   "execution_count": 69,
   "id": "0da617d6-3878-466b-8c86-e4608cca1140",
   "metadata": {
    "tags": []
   },
   "outputs": [],
   "source": [
    "mod_boat_passive = ct.ss(An(8000*np.pi/30),E,C,D)"
   ]
  },
  {
   "cell_type": "code",
   "execution_count": 84,
   "id": "21dd58f6-286b-47de-8ee6-469b590b10fd",
   "metadata": {},
   "outputs": [
    {
     "data": {
      "text/plain": [
       "<matplotlib.legend.Legend at 0x1e5dbf84310>"
      ]
     },
     "execution_count": 84,
     "metadata": {},
     "output_type": "execute_result"
    },
    {
     "data": {
      "image/png": "[encoded data removed]",
      "text/plain": [
       "<Figure size 500x700 with 2 Axes>"
      ]
     },
     "metadata": {},
     "output_type": "display_data"
    }
   ],
   "source": [
    "ts = np.linspace(0, 20, 1001)\n",
    "w = np.linspace(0.1, 0.1, 1001)\n",
    "x0 = [(15.0*np.pi/180), 0.0, 0.0, 0.0]\n",
    "t, y, x = ct.forced_response(mod_boat_passive, U = 0, T=ts, X0=x0, return_x=True)\n",
    "\n",
    "fig, (state, control_input) = plt.subplots(\n",
    "    2, 1, figsize=(5, 7), sharex=True)\n",
    "\n",
    "state.plot(t, (x[0, :]*180/np.pi), color=cp['red'], label=r'$\\phi (°)$',)\n",
    "state.plot(t, (x[1, :]*180/np.pi), color=cp['blue'], label=r'$\\theta (°)$')\n",
    "#state.plot(t, x[2, :], color=cp['red'], label=r'$\\dot\\phi$')\n",
    "#state.plot(t, x[3, :], color=cp['red'], label=r'$\\dot\\theta$')\n",
    "# state.plot(t, x[:, 2], color='black', label=r'$x_3$')\n",
    "state.set_ylabel(r'$x$')\n",
    "state.set_xlabel(r'$t$')\n",
    "state.legend()\n",
    "\n",
    "\n",
    "control_input.plot(t, y[2,:], color=cp['orange'], label=r'$\\dot \\theta (rad/s) $')\n",
    "control_input.set_ylabel(r'$y$')\n",
    "control_input.set_xlabel(r'$t$')\n",
    "control_input.legend()"
   ]
  },
  {
   "cell_type": "code",
   "execution_count": 76,
   "id": "a9291250-a28d-4f98-b349-320c7db445b6",
   "metadata": {},
   "outputs": [],
   "source": [
    "mod_boat_OFF = ct.ss(An(0*np.pi/30),E,C,D)"
   ]
  },
  {
   "cell_type": "code",
   "execution_count": 83,
   "id": "bc822223-1a1d-45e8-b10b-72d6c7c10df7",
   "metadata": {
    "tags": []
   },
   "outputs": [
    {
     "data": {
      "text/plain": [
       "<matplotlib.legend.Legend at 0x1e5dbc5c710>"
      ]
     },
     "execution_count": 83,
     "metadata": {},
     "output_type": "execute_result"
    },
    {
     "data": {
      "image/png": "[encoded data removed]",
      "text/plain": [
       "<Figure size 500x700 with 2 Axes>"
      ]
     },
     "metadata": {},
     "output_type": "display_data"
    }
   ],
   "source": [
    "ts = np.linspace(0, 20, 1001)\n",
    "w = np.linspace(0.1, 0.1, 1001)\n",
    "x0 = [(15.0*np.pi/180), 0.0, 0.0, 0.0]\n",
    "t, y, x = ct.forced_response(mod_boat_OFF, U = 0, T=ts, X0=x0, return_x=True)\n",
    "\n",
    "fig, (state, control_input) = plt.subplots(\n",
    "    2, 1, figsize=(5, 7), sharex=True)\n",
    "\n",
    "state.plot(t, (x[0, :]*180/np.pi), color=cp['red'], label=r'$\\phi (°)$',)\n",
    "state.plot(t, (x[1, :]*180/np.pi), color=cp['blue'], label=r'$\\theta (°)$')\n",
    "#state.plot(t, x[2, :], color=cp['red'], label=r'$\\dot\\phi$')\n",
    "#state.plot(t, x[3, :], color=cp['red'], label=r'$\\dot\\theta$')\n",
    "# state.plot(t, x[:, 2], color='black', label=r'$x_3$')\n",
    "state.set_ylabel(r'$x$')\n",
    "state.set_xlabel(r'$t$')\n",
    "state.legend()\n",
    "\n",
    "\n",
    "control_input.plot(t, y[2,:], color=cp['orange'], label=r'$\\dot \\theta (rad/s) $')\n",
    "control_input.set_ylabel(r'$y$')\n",
    "control_input.set_xlabel(r'$t$')\n",
    "control_input.legend()"
   ]
  },
  {
   "cell_type": "code",
   "execution_count": null,
   "id": "897f28c9-0187-4b3e-bd8d-5805ec948c03",
   "metadata": {},
   "outputs": [],
   "source": []
  }
 ],
 "metadata": {
  "kernelspec": {
   "display_name": "Python 3 (ipykernel)",
   "language": "python",
   "name": "python3"
  },
  "language_info": {
   "codemirror_mode": {
    "name": "ipython",
    "version": 3
   },
   "file_extension": ".py",
   "mimetype": "text/x-python",
   "name": "python",
   "nbconvert_exporter": "python",
   "pygments_lexer": "ipython3",
   "version": "3.11.5"
  }
 },
 "nbformat": 4,
 "nbformat_minor": 5
}
